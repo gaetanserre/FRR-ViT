{
 "cells": [
  {
   "cell_type": "code",
   "execution_count": 1,
   "metadata": {},
   "outputs": [],
   "source": [
    "import os\n",
    "\n",
    "if not os.path.exists(\"weights\"):\n",
    "  os.mkdir(\"weights\")\n",
    "  !wget https://storage.googleapis.com/vit_models/imagenet21k%2Bimagenet2012/ViT-B_16.npz -O weights/ViT-B_16.npz\n",
    "  !wget https://storage.googleapis.com/vit_models/imagenet21k%2Bimagenet2012/ViT-L_16.npz -O weights/ViT-L_16.npz"
   ]
  },
  {
   "cell_type": "code",
   "execution_count": 2,
   "metadata": {},
   "outputs": [],
   "source": [
    "import timm\n",
    "import torch as th\n",
    "from torchvision import datasets\n",
    "from torchvision import transforms as T\n",
    "from tqdm.auto import tqdm\n",
    "\n",
    "device = th.device(\"cuda\" if th.cuda.is_available() else \"cpu\")"
   ]
  },
  {
   "cell_type": "code",
   "execution_count": 3,
   "metadata": {},
   "outputs": [],
   "source": [
    "def get_accuracy(model, dataset, batch_size):\n",
    "  dataloader = th.utils.data.DataLoader(dataset, batch_size=batch_size, shuffle=True)\n",
    "\n",
    "  model.eval()\n",
    "  good = 0\n",
    "  total = 0\n",
    "  tqdm_loader = tqdm(dataloader, desc=\"Evaluating\", unit=\"batches\")\n",
    "  for images, labels in tqdm_loader:\n",
    "    images, labels = images.to(device), labels.to(device)\n",
    "    logits = model(images)\n",
    "\n",
    "    good  += th.argmax(logits, dim=1).eq(labels).sum().item()\n",
    "    total += labels.size(0)\n",
    "\n",
    "    tqdm_loader.set_description_str(f\"Accuracy: {good / total:.2%}\")\n",
    "\n",
    "  return good / total"
   ]
  },
  {
   "cell_type": "code",
   "execution_count": 4,
   "metadata": {},
   "outputs": [],
   "source": [
    "transforms = T.Compose([\n",
    "    T.ToTensor(),\n",
    "    T.Resize((384, 384)),\n",
    "])\n",
    "\n",
    "dataset = datasets.ImageNet(root=\"ImageNet\", split=\"val\", transform=transforms)"
   ]
  },
  {
   "cell_type": "code",
   "execution_count": 5,
   "metadata": {},
   "outputs": [
    {
     "data": {
      "application/vnd.jupyter.widget-view+json": {
       "model_id": "0385622d47324649b29b2fd1e55ed886",
       "version_major": 2,
       "version_minor": 0
      },
      "text/plain": [
       "Evaluating:   0%|          | 0/12500 [00:00<?, ?batches/s]"
      ]
     },
     "metadata": {},
     "output_type": "display_data"
    },
    {
     "name": "stdout",
     "output_type": "stream",
     "text": [
      "ViT-B_16 w/ Imagenet21k accuracy: 81.58%\n"
     ]
    }
   ],
   "source": [
    "ViT = timm.create_model(\"vit_base_patch16_384\")\n",
    "timm.models.load_checkpoint(ViT, \"weights/ViT-B_16.npz\")\n",
    "ViT.to(device)\n",
    "\n",
    "accuracy_b_16 = get_accuracy(ViT, dataset, batch_size=4)\n",
    "print(f\"ViT-B_16 w/ Imagenet21k accuracy: {accuracy_b_16:.2%}\")"
   ]
  },
  {
   "cell_type": "code",
   "execution_count": 6,
   "metadata": {},
   "outputs": [
    {
     "data": {
      "application/vnd.jupyter.widget-view+json": {
       "model_id": "e570667775a3476b89e08188518f419b",
       "version_major": 2,
       "version_minor": 0
      },
      "text/plain": [
       "Evaluating:   0%|          | 0/50000 [00:00<?, ?batches/s]"
      ]
     },
     "metadata": {},
     "output_type": "display_data"
    },
    {
     "name": "stdout",
     "output_type": "stream",
     "text": [
      "ViT-L_16 w/ Imagenet21k accuracy: 82.73%\n"
     ]
    }
   ],
   "source": [
    "ViT = timm.create_model(\"vit_large_patch16_384\")\n",
    "timm.models.load_checkpoint(ViT, \"weights/ViT-L_16.npz\")\n",
    "ViT.to(device)\n",
    "\n",
    "accuracy_l_16 = get_accuracy(ViT, dataset, batch_size=1)\n",
    "print(f\"ViT-L_16 w/ Imagenet21k accuracy: {accuracy_l_16:.2%}\")"
   ]
  },
  {
   "cell_type": "code",
   "execution_count": null,
   "metadata": {},
   "outputs": [],
   "source": []
  }
 ],
 "metadata": {
  "kernelspec": {
   "display_name": "Python 3.10.4 ('ML')",
   "language": "python",
   "name": "python3"
  },
  "language_info": {
   "codemirror_mode": {
    "name": "ipython",
    "version": 3
   },
   "file_extension": ".py",
   "mimetype": "text/x-python",
   "name": "python",
   "nbconvert_exporter": "python",
   "pygments_lexer": "ipython3",
   "version": "3.10.4"
  },
  "orig_nbformat": 4,
  "vscode": {
   "interpreter": {
    "hash": "caf294c8b7f99497ecf5c094d08c3d101cb799ecbd84d0a8d0493e84938aefcc"
   }
  }
 },
 "nbformat": 4,
 "nbformat_minor": 2
}
